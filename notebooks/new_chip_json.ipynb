{
 "cells": [
  {
   "cell_type": "code",
   "execution_count": 1,
   "metadata": {
    "collapsed": true
   },
   "outputs": [],
   "source": [
    "import requests\n",
    "import json\n",
    "import os"
   ]
  },
  {
   "cell_type": "code",
   "execution_count": 2,
   "metadata": {},
   "outputs": [],
   "source": [
    "chip_x = -2094585\n",
    "chip_y = 1682805\n",
    "chips_host = os.getenv('LCMAP_CHIP_HOST')\n",
    "\n",
    "inputs_url = \"{chips_host}?x={x}&y={y}&acquired=1982-01-01/2015-12-31\\\n",
    "&ubid=LANDSAT_4/TM/SRB1&ubid=LANDSAT_4/TM/SRB2&ubid=LANDSAT_4/TM/SRB3&ubid=LANDSAT_4/TM/SRB4&ubid=LANDSAT_4/TM/SRB5\\\n",
    "&ubid=LANDSAT_4/TM/BTB6&ubid=LANDSAT_4/TM/SRB7&ubid=LANDSAT_4/TM/PIXELQA\\\n",
    "&ubid=LANDSAT_5/TM/SRB1&ubid=LANDSAT_5/TM/SRB2&ubid=LANDSAT_5/TM/SRB3&ubid=LANDSAT_5/TM/SRB4&ubid=LANDSAT_5/TM/SRB5\\\n",
    "&ubid=LANDSAT_5/TM/BTB6&ubid=LANDSAT_5/TM/SRB7&ubid=LANDSAT_5/TM/PIXELQA\\\n",
    "&ubid=LANDSAT_7/ETM/SRB1&ubid=LANDSAT_7/ETM/SRB2&ubid=LANDSAT_7/ETM/SRB3&ubid=LANDSAT_7/ETM/SRB4&ubid=LANDSAT_7/ETM/SRB5\\\n",
    "&ubid=LANDSAT_7/ETM/BTB6&ubid=LANDSAT_7/ETM/SRB7&ubid=LANDSAT_7/ETM/PIXELQA\\\n",
    "&ubid=LANDSAT_8/OLI_TIRS/SRB2&ubid=LANDSAT_8/OLI_TIRS/SRB3&ubid=LANDSAT_8/OLI_TIRS/SRB4&ubid=LANDSAT_8/OLI_TIRS/SRB5\\\n",
    "&ubid=LANDSAT_8/OLI_TIRS/SRB6&ubid=LANDSAT_8/OLI_TIRS/SRB7&ubid=LANDSAT_8/OLI_TIRS/BTB10\\\n",
    "&ubid=LANDSAT_8/OLI_TIRS/PIXELQA\".format(chips_host=chips_host, x=chip_x, y=chip_y)\n",
    "\n",
    "dates           = [i.split('=')[1] for i in inputs_url.split('&') if 'acquired=' in i][0]\n",
    "chips_url       = inputs_url.split('?')[0]\n",
    "specs_url       = chips_url.replace('/chips', '/chip-specs')\n",
    "querystr_list   = inputs_url.split('?')[1].split('&')\n",
    "requested_ubids = [i.replace('ubid=', '') for i in querystr_list if 'ubid=' in i]"
   ]
  },
  {
   "cell_type": "code",
   "execution_count": 3,
   "metadata": {
    "collapsed": true
   },
   "outputs": [],
   "source": [
    "def get_request(url, params=None):\n",
    "    \"\"\" Return json response for a give url \"\"\"\n",
    "    return requests.get(url, params=params).json()\n",
    "\n",
    "def save_json(filepath, indata):\n",
    "    with open(filepath, 'w') as f:\n",
    "        f.write(indata)\n",
    "            \n",
    "def return_key(value, inmap):\n",
    "    for k in inmap:\n",
    "        if value in inmap[k]:\n",
    "            return k"
   ]
  },
  {
   "cell_type": "code",
   "execution_count": 4,
   "metadata": {},
   "outputs": [],
   "source": [
    "smap = {'blue':    ['LANDSAT_5/TM/SRB1', 'LANDSAT_7/ETM/SRB1', 'LANDSAT_4/TM/SRB1', 'LANDSAT_8/OLI_TIRS/SRB2'],\n",
    "        'cfmask':  ['LANDSAT_4/TM/PIXELQA', 'LANDSAT_7/ETM/PIXELQA', 'LANDSAT_8/OLI_TIRS/PIXELQA', 'LANDSAT_5/TM/PIXELQA'],\n",
    "        'green':   ['LANDSAT_8/OLI_TIRS/SRB3', 'LANDSAT_4/TM/SRB2', 'LANDSAT_5/TM/SRB2', 'LANDSAT_7/ETM/SRB2'],\n",
    "        'nir':     ['LANDSAT_4/TM/SRB4', 'LANDSAT_8/OLI_TIRS/SRB5', 'LANDSAT_5/TM/SRB4', 'LANDSAT_7/ETM/SRB4'],\n",
    "        'red':     ['LANDSAT_7/ETM/SRB3', 'LANDSAT_8/OLI_TIRS/SRB4', 'LANDSAT_5/TM/SRB3', 'LANDSAT_4/TM/SRB3'],\n",
    "        'swir1':   ['LANDSAT_7/ETM/SRB5', 'LANDSAT_4/TM/SRB5', 'LANDSAT_5/TM/SRB5', 'LANDSAT_8/OLI_TIRS/SRB6'],\n",
    "        'swir2':   ['LANDSAT_8/OLI_TIRS/SRB7', 'LANDSAT_5/TM/SRB7', 'LANDSAT_4/TM/SRB7', 'LANDSAT_7/ETM/SRB7'],\n",
    "        'thermal': ['LANDSAT_7/ETM/BTB6', 'LANDSAT_5/TM/BTB6', 'LANDSAT_8/OLI_TIRS/BTB10', 'LANDSAT_4/TM/BTB6']}"
   ]
  },
  {
   "cell_type": "code",
   "execution_count": 5,
   "metadata": {},
   "outputs": [
    {
     "name": "stdout",
     "output_type": "stream",
     "text": [
      "requesting chip data for: LANDSAT_4/TM/SRB1\n",
      "data exists locally, skipping...\n",
      "requesting chip data for: LANDSAT_4/TM/SRB2\n",
      "data exists locally, skipping...\n",
      "requesting chip data for: LANDSAT_4/TM/SRB3\n",
      "data exists locally, skipping...\n",
      "requesting chip data for: LANDSAT_4/TM/SRB4\n",
      "data exists locally, skipping...\n",
      "requesting chip data for: LANDSAT_4/TM/SRB5\n",
      "data exists locally, skipping...\n",
      "requesting chip data for: LANDSAT_4/TM/BTB6\n",
      "data exists locally, skipping...\n",
      "requesting chip data for: LANDSAT_4/TM/SRB7\n",
      "data exists locally, skipping...\n",
      "requesting chip data for: LANDSAT_4/TM/PIXELQA\n",
      "data exists locally, skipping...\n",
      "requesting chip data for: LANDSAT_5/TM/SRB1\n",
      "data exists locally, skipping...\n",
      "requesting chip data for: LANDSAT_5/TM/SRB2\n",
      "data exists locally, skipping...\n",
      "requesting chip data for: LANDSAT_5/TM/SRB3\n",
      "data exists locally, skipping...\n",
      "requesting chip data for: LANDSAT_5/TM/SRB4\n",
      "data exists locally, skipping...\n",
      "requesting chip data for: LANDSAT_5/TM/SRB5\n",
      "data exists locally, skipping...\n",
      "requesting chip data for: LANDSAT_5/TM/BTB6\n",
      "data exists locally, skipping...\n",
      "requesting chip data for: LANDSAT_5/TM/SRB7\n",
      "data exists locally, skipping...\n",
      "requesting chip data for: LANDSAT_5/TM/PIXELQA\n",
      "data exists locally, skipping...\n",
      "requesting chip data for: LANDSAT_7/ETM/SRB1\n",
      "data exists locally, skipping...\n",
      "requesting chip data for: LANDSAT_7/ETM/SRB2\n",
      "data exists locally, skipping...\n",
      "requesting chip data for: LANDSAT_7/ETM/SRB3\n",
      "data exists locally, skipping...\n",
      "requesting chip data for: LANDSAT_7/ETM/SRB4\n",
      "data exists locally, skipping...\n",
      "requesting chip data for: LANDSAT_7/ETM/SRB5\n",
      "data exists locally, skipping...\n",
      "requesting chip data for: LANDSAT_7/ETM/BTB6\n",
      "data exists locally, skipping...\n",
      "requesting chip data for: LANDSAT_7/ETM/SRB7\n",
      "data exists locally, skipping...\n",
      "requesting chip data for: LANDSAT_7/ETM/PIXELQA\n",
      "data exists locally, skipping...\n",
      "requesting chip data for: LANDSAT_8/OLI_TIRS/SRB2\n",
      "data exists locally, skipping...\n",
      "requesting chip data for: LANDSAT_8/OLI_TIRS/SRB3\n",
      "data exists locally, skipping...\n",
      "requesting chip data for: LANDSAT_8/OLI_TIRS/SRB4\n",
      "data exists locally, skipping...\n",
      "requesting chip data for: LANDSAT_8/OLI_TIRS/SRB5\n",
      "data exists locally, skipping...\n",
      "requesting chip data for: LANDSAT_8/OLI_TIRS/SRB6\n",
      "data exists locally, skipping...\n",
      "requesting chip data for: LANDSAT_8/OLI_TIRS/SRB7\n",
      "data exists locally, skipping...\n",
      "requesting chip data for: LANDSAT_8/OLI_TIRS/BTB10\n",
      "data exists locally, skipping...\n",
      "requesting chip data for: LANDSAT_8/OLI_TIRS/PIXELQA\n",
      "data exists locally, skipping...\n"
     ]
    }
   ],
   "source": [
    "for ubid in requested_ubids:\n",
    "    print(\"requesting chip data for: {}\".format(ubid))\n",
    "    _filepath = \"../chips/band-json/{}_{}_{}_{}.json\".format(return_key(ubid, smap), chip_x, chip_y, ubid.replace(\"/\", \"-\"))\n",
    "    if os.access(_filepath, os.F_OK):\n",
    "        print(\"data exists locally, skipping...\")\n",
    "    else:\n",
    "        _resp = get_request(chips_url, params={'ubid': ubid, 'x': chip_x, 'y': chip_y, 'acquired': dates})\n",
    "        save_json(_filepath, json.dumps(_resp))"
   ]
  },
  {
   "cell_type": "code",
   "execution_count": null,
   "metadata": {
    "collapsed": true
   },
   "outputs": [],
   "source": []
  }
 ],
 "metadata": {
  "kernelspec": {
   "display_name": "Python 3",
   "language": "python",
   "name": "python3"
  },
  "language_info": {
   "codemirror_mode": {
    "name": "ipython",
    "version": 3
   },
   "file_extension": ".py",
   "mimetype": "text/x-python",
   "name": "python",
   "nbconvert_exporter": "python",
   "pygments_lexer": "ipython3",
   "version": "3.5.3"
  }
 },
 "nbformat": 4,
 "nbformat_minor": 2
}
